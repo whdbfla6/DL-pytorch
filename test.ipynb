{
 "cells": [
  {
   "cell_type": "code",
   "execution_count": 1,
   "metadata": {},
   "outputs": [],
   "source": [
    "import torch\n",
    "from classifier.two_layer_net import TwoNeuralNet\n",
    "from classifier.LinearClassifier import LinearSVM,Softmax\n",
    "from sklearn import datasets\n",
    "from sklearn.model_selection import train_test_split"
   ]
  },
  {
   "cell_type": "code",
   "execution_count": 2,
   "metadata": {},
   "outputs": [],
   "source": [
    "iris = datasets.load_iris()\n",
    "X = torch.tensor(iris.data,dtype=torch.float32)\n",
    "y = torch.tensor(iris.target)\n",
    "train_X,test_X,train_y,test_y = train_test_split(X,y,test_size=0.3)"
   ]
  },
  {
   "cell_type": "code",
   "execution_count": 3,
   "metadata": {},
   "outputs": [
    {
     "data": {
      "text/plain": [
       "tensor(0.9333)"
      ]
     },
     "execution_count": 3,
     "metadata": {},
     "output_type": "execute_result"
    }
   ],
   "source": [
    "svm = LinearSVM()\n",
    "svm.forward(train_X,train_y,num_iters=1000)\n",
    "pred = svm.pred(test_X)\n",
    "sum(pred==test_y)/len(test_y)"
   ]
  },
  {
   "cell_type": "code",
   "execution_count": 4,
   "metadata": {},
   "outputs": [
    {
     "data": {
      "text/plain": [
       "tensor(0.9333)"
      ]
     },
     "execution_count": 4,
     "metadata": {},
     "output_type": "execute_result"
    }
   ],
   "source": [
    "softmax = Softmax()\n",
    "softmax.forward(train_X,train_y,num_iters=1000)\n",
    "pred = softmax.pred(test_X)\n",
    "sum(pred==test_y)/len(test_y)"
   ]
  },
  {
   "cell_type": "code",
   "execution_count": 9,
   "metadata": {},
   "outputs": [
    {
     "name": "stdout",
     "output_type": "stream",
     "text": [
      "[0/1000] training loss : 1.0995800495147705\n",
      "[0/1000] validation loss : 1.099133014678955\n",
      "[100/1000] training loss : 1.091076135635376\n",
      "[100/1000] validation loss : 1.0942853689193726\n",
      "[200/1000] training loss : 1.033008337020874\n",
      "[200/1000] validation loss : 1.0552973747253418\n",
      "[300/1000] training loss : 0.9025243520736694\n",
      "[300/1000] validation loss : 0.9067533612251282\n",
      "[400/1000] training loss : 0.68007892370224\n",
      "[400/1000] validation loss : 0.6980106234550476\n",
      "[500/1000] training loss : 0.5574304461479187\n",
      "[500/1000] validation loss : 0.571605384349823\n",
      "[600/1000] training loss : 0.4804583489894867\n",
      "[600/1000] validation loss : 0.5191173553466797\n",
      "[700/1000] training loss : 0.45728570222854614\n",
      "[700/1000] validation loss : 0.47043827176094055\n",
      "[800/1000] training loss : 0.40291327238082886\n",
      "[800/1000] validation loss : 0.43211856484413147\n",
      "[900/1000] training loss : 0.3868110775947571\n",
      "[900/1000] validation loss : 0.4017126262187958\n"
     ]
    }
   ],
   "source": [
    "nn = TwoNeuralNet(input_size = 4, hidden_size = 2, output_size = 3, std=0.01)\n",
    "nn.train(train_X,train_y,test_X,test_y,learning_rate_decay=1,learning_rate=0.1,num_iters=1000,batch_size=100)"
   ]
  },
  {
   "cell_type": "code",
   "execution_count": 10,
   "metadata": {},
   "outputs": [
    {
     "data": {
      "text/plain": [
       "tensor(0.9111)"
      ]
     },
     "execution_count": 10,
     "metadata": {},
     "output_type": "execute_result"
    }
   ],
   "source": [
    "pred = nn.pred(test_X)\n",
    "sum(pred==test_y)/len(test_y)"
   ]
  },
  {
   "cell_type": "code",
   "execution_count": null,
   "metadata": {},
   "outputs": [],
   "source": []
  }
 ],
 "metadata": {
  "interpreter": {
   "hash": "4bfe05f1a196011102106d5bd70074121a1c67a46fdb0db61754306b5a2cee16"
  },
  "kernelspec": {
   "display_name": "Python 3.6.13 ('torch_env')",
   "language": "python",
   "name": "python3"
  },
  "language_info": {
   "codemirror_mode": {
    "name": "ipython",
    "version": 3
   },
   "file_extension": ".py",
   "mimetype": "text/x-python",
   "name": "python",
   "nbconvert_exporter": "python",
   "pygments_lexer": "ipython3",
   "version": "3.6.13"
  },
  "orig_nbformat": 4
 },
 "nbformat": 4,
 "nbformat_minor": 2
}
