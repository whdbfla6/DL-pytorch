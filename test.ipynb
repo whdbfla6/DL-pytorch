{
 "cells": [
  {
   "cell_type": "code",
   "execution_count": 1,
   "metadata": {},
   "outputs": [],
   "source": [
    "import torch\n",
    "from classifier.two_layer_net import TwoNeuralNet\n",
    "from classifier.LinearClassifier import LinearSVM,Softmax\n",
    "from sklearn import datasets\n",
    "from sklearn.model_selection import train_test_split"
   ]
  },
  {
   "cell_type": "code",
   "execution_count": 2,
   "metadata": {},
   "outputs": [],
   "source": [
    "iris = datasets.load_iris()\n",
    "X = torch.tensor(iris.data,dtype=torch.float32)\n",
    "y = torch.tensor(iris.target)\n",
    "train_X,test_X,train_y,test_y = train_test_split(X,y,test_size=0.3)"
   ]
  },
  {
   "cell_type": "code",
   "execution_count": 3,
   "metadata": {},
   "outputs": [
    {
     "data": {
      "text/plain": [
       "tensor(0.9111)"
      ]
     },
     "execution_count": 3,
     "metadata": {},
     "output_type": "execute_result"
    }
   ],
   "source": [
    "svm = LinearSVM()\n",
    "svm.forward(train_X,train_y,num_iters=1000)\n",
    "pred = svm.pred(test_X)\n",
    "sum(pred==test_y)/len(test_y)"
   ]
  },
  {
   "cell_type": "code",
   "execution_count": 4,
   "metadata": {},
   "outputs": [
    {
     "data": {
      "text/plain": [
       "tensor(0.9556)"
      ]
     },
     "execution_count": 4,
     "metadata": {},
     "output_type": "execute_result"
    }
   ],
   "source": [
    "softmax = Softmax()\n",
    "softmax.forward(train_X,train_y,num_iters=1000)\n",
    "pred = softmax.pred(test_X)\n",
    "sum(pred==test_y)/len(test_y)"
   ]
  },
  {
   "cell_type": "code",
   "execution_count": 11,
   "metadata": {},
   "outputs": [
    {
     "name": "stdout",
     "output_type": "stream",
     "text": [
      "[0/300] training loss : 1.0986093282699585\n",
      "[0/300] validation loss : 1.098615050315857\n",
      "[100/300] training loss : 1.098594069480896\n",
      "[100/300] validation loss : 1.0986385345458984\n",
      "[200/300] training loss : 1.0985525846481323\n",
      "[200/300] validation loss : 1.098665714263916\n"
     ]
    }
   ],
   "source": [
    "nn = TwoNeuralNet(input_size = 4, hidden_size = 5, output_size = 3)\n",
    "nn.train(train_X,train_y,test_X,test_y,learning_rate=0.0001,learning_rate_decay=1,num_iters=300,batch_size=100)"
   ]
  },
  {
   "cell_type": "code",
   "execution_count": 12,
   "metadata": {},
   "outputs": [
    {
     "data": {
      "text/plain": [
       "tensor(0.2667)"
      ]
     },
     "execution_count": 12,
     "metadata": {},
     "output_type": "execute_result"
    }
   ],
   "source": [
    "pred = nn.pred(test_X)\n",
    "sum(pred==test_y)/len(test_y)"
   ]
  },
  {
   "cell_type": "code",
   "execution_count": null,
   "metadata": {},
   "outputs": [],
   "source": []
  }
 ],
 "metadata": {
  "interpreter": {
   "hash": "4bfe05f1a196011102106d5bd70074121a1c67a46fdb0db61754306b5a2cee16"
  },
  "kernelspec": {
   "display_name": "Python 3.6.13 ('torch_env')",
   "language": "python",
   "name": "python3"
  },
  "language_info": {
   "codemirror_mode": {
    "name": "ipython",
    "version": 3
   },
   "file_extension": ".py",
   "mimetype": "text/x-python",
   "name": "python",
   "nbconvert_exporter": "python",
   "pygments_lexer": "ipython3",
   "version": "3.6.13"
  },
  "orig_nbformat": 4
 },
 "nbformat": 4,
 "nbformat_minor": 2
}
